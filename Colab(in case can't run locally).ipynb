{
  "nbformat": 4,
  "nbformat_minor": 0,
  "metadata": {
    "colab": {
      "provenance": []
    },
    "kernelspec": {
      "name": "python3",
      "display_name": "Python 3"
    },
    "language_info": {
      "name": "python"
    }
  },
  "cells": [
    {
      "cell_type": "markdown",
      "source": [
        "1.Install Dependencies For Running"
      ],
      "metadata": {
        "id": "Uz2XTuK4VNyP"
      }
    },
    {
      "cell_type": "code",
      "execution_count": null,
      "metadata": {
        "colab": {
          "base_uri": "https://localhost:8080/"
        },
        "id": "btJp_a4cUTk9",
        "outputId": "3a359dd6-eb8d-4ab3-f0b5-25394b7e49a2"
      },
      "outputs": [
        {
          "output_type": "stream",
          "name": "stdout",
          "text": [
            "\u001b[33m\r0% [Working]\u001b[0m\r            \rHit:1 http://security.ubuntu.com/ubuntu jammy-security InRelease\n",
            "\u001b[33m\r0% [Connecting to archive.ubuntu.com] [Connecting to cloud.r-project.org] [Connected to r2u.stat.ill\u001b[0m\r                                                                                                    \rHit:2 https://developer.download.nvidia.com/compute/cuda/repos/ubuntu2204/x86_64  InRelease\n",
            "Ign:3 https://r2u.stat.illinois.edu/ubuntu jammy InRelease\n",
            "Hit:4 https://r2u.stat.illinois.edu/ubuntu jammy Release\n",
            "Hit:5 http://archive.ubuntu.com/ubuntu jammy InRelease\n",
            "Hit:6 http://archive.ubuntu.com/ubuntu jammy-updates InRelease\n",
            "Hit:7 http://archive.ubuntu.com/ubuntu jammy-backports InRelease\n",
            "Hit:8 https://cloud.r-project.org/bin/linux/ubuntu jammy-cran40/ InRelease\n",
            "Hit:10 https://ppa.launchpadcontent.net/deadsnakes/ppa/ubuntu jammy InRelease\n",
            "Hit:11 https://ppa.launchpadcontent.net/graphics-drivers/ppa/ubuntu jammy InRelease\n",
            "Hit:12 https://ppa.launchpadcontent.net/ubuntugis/ppa/ubuntu jammy InRelease\n",
            "Reading package lists... Done\n",
            "Building dependency tree... Done\n",
            "Reading state information... Done\n",
            "51 packages can be upgraded. Run 'apt list --upgradable' to see them.\n",
            "\u001b[1;33mW: \u001b[0mSkipping acquire of configured file 'main/source/Sources' as repository 'https://r2u.stat.illinois.edu/ubuntu jammy InRelease' does not seem to provide it (sources.list entry misspelt?)\u001b[0m\n",
            "Reading package lists... Done\n",
            "Building dependency tree... Done\n",
            "Reading state information... Done\n",
            "g++ is already the newest version (4:11.2.0-1ubuntu1).\n",
            "0 upgraded, 0 newly installed, 0 to remove and 51 not upgraded.\n"
          ]
        }
      ],
      "source": [
        "!apt update\n",
        "!apt install -y g++"
      ]
    },
    {
      "cell_type": "markdown",
      "source": [
        "Here is the main cpp code for merge sort acceleration"
      ],
      "metadata": {
        "id": "g5YsxgGSUvQ3"
      }
    },
    {
      "cell_type": "code",
      "source": [
        "%%writefile mergesort_parallel.cpp\n",
        "#include <stdio.h>\n",
        "#include <stdlib.h>\n",
        "#include <errno.h>\n",
        "#include <sys/time.h>\n",
        "\n",
        "#include <iostream>\n",
        "#include <algorithm>\n",
        "// Add this head file OpenMP library for parallelism\n",
        "#include <omp.h>\n",
        "\n",
        "/**\n",
        " * Helper routine: check if array is sorted correctly by parallel\n",
        " */\n",
        "bool isSorted(int ref[], int data[], const size_t size)\n",
        "{\n",
        "\tstd::sort(ref, ref + size);\n",
        "\tfor (size_t idx = 0; idx < size; ++idx)\n",
        "\t{\n",
        "\t\tif (ref[idx] != data[idx])\n",
        "\t\t{\n",
        "\t\t\treturn false;\n",
        "\t\t}\n",
        "\t}\n",
        "\treturn true;\n",
        "}\n",
        "\n",
        "/**\n",
        " * sequential merge step without parallel by halves, just copy from original code\n",
        " */\n",
        "void MsMergeSequential(int *out, int *in, long begin1, long end1, long begin2, long end2, long outBegin)\n",
        "{\n",
        "\tlong left = begin1;\n",
        "\tlong right = begin2;\n",
        "\n",
        "\tlong idx = outBegin;\n",
        "\n",
        "\twhile (left < end1 && right < end2)\n",
        "\t{\n",
        "\t\tif (in[left] <= in[right])\n",
        "\t\t{\n",
        "\t\t\tout[idx] = in[left];\n",
        "\t\t\tleft++;\n",
        "\t\t}\n",
        "\t\telse\n",
        "\t\t{\n",
        "\t\t\tout[idx] = in[right];\n",
        "\t\t\tright++;\n",
        "\t\t}\n",
        "\t\tidx++;\n",
        "\t}\n",
        "\n",
        "\twhile (left < end1)\n",
        "\t{\n",
        "\t\tout[idx] = in[left];\n",
        "\t\tleft++, idx++;\n",
        "\t}\n",
        "\n",
        "\twhile (right < end2)\n",
        "\t{\n",
        "\t\tout[idx] = in[right];\n",
        "\t\tright++, idx++;\n",
        "\t}\n",
        "}\n",
        "\n",
        "/**\n",
        " * 1.Parallel merge algorithm by using double tasks for each merge step and moving towards the middle separately\n",
        " * 2.There is also a cutOffMerge threshold value to control if using the parallel version. When the sub array\n",
        " * is big enough we can use parallel merge for acceleration. If too small, parallelization by OpenMp tasks will\n",
        " * in turn increase the total overhead for managing.\n",
        " */\n",
        "void MsMergeParallel(int *out, int *in, long begin1, long end1, long begin2, long end2, long outBegin)\n",
        "{\n",
        "\tlong left = begin1;\n",
        "\tlong right = end2 - 1;\n",
        "\tlong outLeft = outBegin;\n",
        "\tlong outRight = outBegin + (end1 - begin1) + (end2 - begin2) - 1;\n",
        "\tlong mid = (outLeft + outRight) / 2; // Define the middle point for stopping\n",
        "\n",
        "#pragma omp parallel\n",
        "\t{\n",
        "#pragma omp single // use single thread multiple tasks\n",
        "\t\t{\n",
        "// Task 1: merge arrays from left (smallest value) to middle point.\n",
        "#pragma omp task shared(out, in)\n",
        "\t\t\t{\n",
        "\t\t\t\tlong l = left;\n",
        "\t\t\t\tlong r = begin2;\n",
        "\t\t\t\tlong o = outLeft;\n",
        "\t\t\t\twhile (l < end1 && r < end2 && o <= mid)\n",
        "\t\t\t\t{ // add another condition that stopping at the middle point when moving right\n",
        "\t\t\t\t\tif (in[l] <= in[r])\n",
        "\t\t\t\t\t{\n",
        "\t\t\t\t\t\tout[o++] = in[l++];\n",
        "\t\t\t\t\t}\n",
        "\t\t\t\t\telse\n",
        "\t\t\t\t\t{\n",
        "\t\t\t\t\t\tout[o++] = in[r++];\n",
        "\t\t\t\t\t}\n",
        "\t\t\t\t}\n",
        "\t\t\t\t// merge the remaining part elements in case one sub array finished all\n",
        "\t\t\t\twhile (l < end1 && o <= mid)\n",
        "\t\t\t\t{\n",
        "\t\t\t\t\tout[o++] = in[l++];\n",
        "\t\t\t\t}\n",
        "\t\t\t\twhile (r < end2 && o <= mid)\n",
        "\t\t\t\t{\n",
        "\t\t\t\t\tout[o++] = in[r++];\n",
        "\t\t\t\t}\n",
        "\t\t\t}\n",
        "\n",
        "// Task 2: merge arrays from right (largest value) to middle point.\n",
        "#pragma omp task shared(out, in)\n",
        "\t\t\t{\n",
        "\t\t\t\tlong l = end1 - 1;\n",
        "\t\t\t\tlong r = end2 - 1;\n",
        "\t\t\t\tlong o = outRight;\n",
        "\t\t\t\twhile (l >= begin1 && r >= begin2 && o > mid)\n",
        "\t\t\t\t{ // add another condition that stopping at the middle point when moving left\n",
        "\t\t\t\t\tif (in[l] >= in[r])\n",
        "\t\t\t\t\t{\n",
        "\t\t\t\t\t\tout[o--] = in[l--];\n",
        "\t\t\t\t\t}\n",
        "\t\t\t\t\telse\n",
        "\t\t\t\t\t{\n",
        "\t\t\t\t\t\tout[o--] = in[r--];\n",
        "\t\t\t\t\t}\n",
        "\t\t\t\t}\n",
        "\t\t\t\t// merge the remaining part elements in case one sub array finished all\n",
        "\t\t\t\twhile (l >= begin1 && o > mid)\n",
        "\t\t\t\t{\n",
        "\t\t\t\t\tout[o--] = in[l--];\n",
        "\t\t\t\t}\n",
        "\t\t\t\twhile (r >= begin2 && o > mid)\n",
        "\t\t\t\t{\n",
        "\t\t\t\t\tout[o--] = in[r--];\n",
        "\t\t\t\t}\n",
        "\t\t\t}\n",
        "\n",
        "#pragma omp taskwait // Wait to synchronize double tasks\n",
        "\t\t}\n",
        "\t}\n",
        "}\n",
        "\n",
        "/**\n",
        " * Parallel MergeSort with parallel by multiple tasks and cut-off standard\n",
        " */\n",
        "void MsSequential(int *array, int *tmp, bool inplace, long begin, long end, int depth, long cutOffSort, long cutOffMerge)\n",
        "{\n",
        "\tif ((end - begin) <= cutOffSort)\n",
        "\t{\n",
        "\t\t// If below cut-off, perform a default sequential sort instead\n",
        "\t\tif (inplace)\n",
        "\t\t{\n",
        "\t\t\tstd::sort(array + begin, array + end);\n",
        "\t\t}\n",
        "\t\telse\n",
        "\t\t{\n",
        "\t\t\tstd::copy(array + begin, array + end, tmp + begin);\n",
        "\t\t\tstd::sort(tmp + begin, tmp + end);\n",
        "\t\t}\n",
        "\t\treturn;\n",
        "\t}\n",
        "\n",
        "\tconst long half = (begin + end) / 2;\n",
        "\n",
        "\t// Parallel the recursive calls by shared tasks when depth allows parallelism\n",
        "\tif (depth > 0)\n",
        "\t{\n",
        "#pragma omp task shared(array, tmp)\n",
        "\t\tMsSequential(array, tmp, !inplace, begin, half, depth - 1, cutOffSort, cutOffMerge); // depth - 1\n",
        "\n",
        "#pragma omp task shared(array, tmp)\n",
        "\t\tMsSequential(array, tmp, !inplace, half, end, depth - 1, cutOffSort, cutOffMerge); // depth - 1\n",
        "\n",
        "#pragma omp taskwait // Wait to synchronize tasks\n",
        "\t}\n",
        "\telse\n",
        "\t{\n",
        "\t\t// Do original sequential algorithm once reaching the depth limitation\n",
        "\t\t// its value will be unchanged anymore, which means alway zero\n",
        "\t\tMsSequential(array, tmp, !inplace, begin, half, depth, cutOffSort, cutOffMerge);\n",
        "\t\tMsSequential(array, tmp, !inplace, half, end, depth, cutOffSort, cutOffMerge);\n",
        "\t}\n",
        "\n",
        "\t// Merge the results according the cutOffMerge threshold value\n",
        "\tbool mergeByParallel = (end - begin) >= cutOffMerge;\n",
        "\tif (mergeByParallel)\n",
        "\t{\n",
        "\t\t// Parallel: if the arrays to merge is large enough which means we can benefit from parallel\n",
        "\t\tif (inplace)\n",
        "\t\t{\n",
        "\t\t\tMsMergeParallel(array, tmp, begin, half, half, end, begin);\n",
        "\t\t}\n",
        "\t\telse\n",
        "\t\t{\n",
        "\t\t\tMsMergeParallel(tmp, array, begin, half, half, end, begin);\n",
        "\t\t}\n",
        "\t}\n",
        "\telse\n",
        "\t{\n",
        "\t\t// Sequential: if the arrays are too small to parallel them (overload for too many tasks to manage)\n",
        "\t\tif (inplace)\n",
        "\t\t{\n",
        "\t\t\tMsMergeSequential(array, tmp, begin, half, half, end, begin);\n",
        "\t\t}\n",
        "\t\telse\n",
        "\t\t{\n",
        "\t\t\tMsMergeSequential(tmp, array, begin, half, half, end, begin);\n",
        "\t\t}\n",
        "\t}\n",
        "}\n",
        "\n",
        "/**\n",
        " * Parallel MergeSort - creates the parallel region here\n",
        " */\n",
        "void MsSerial(int *array, int *tmp, const size_t size, int maxDepth, long cutOffSort, long cutOffMerge)\n",
        "{\n",
        "// Create pool of threads and start with one of them.\n",
        "#pragma omp parallel // parallel region\n",
        "\t{\n",
        "#pragma omp single // Ensure only one thread starts tasks\n",
        "\t\t{\n",
        "\t\t\tMsSequential(array, tmp, true, 0, size, maxDepth, cutOffSort, cutOffMerge);\n",
        "\t\t}\n",
        "\t}\n",
        "}\n",
        "\n",
        "/**\n",
        " * Program entry point\n",
        " */\n",
        "int main(int argc, char *argv[])\n",
        "{\n",
        "\t// Variables to measure the elapsed time\n",
        "\tstruct timeval t1, t2;\n",
        "\tdouble etime;\n",
        "\n",
        "\t// Expect one command line argument: array size\n",
        "\tif (argc != 2)\n",
        "\t{\n",
        "\t\tprintf(\"Usage: MergeSort.exe <array size> \\n\");\n",
        "\t\tprintf(\"\\n\");\n",
        "\t\treturn EXIT_FAILURE;\n",
        "\t}\n",
        "\telse\n",
        "\t{\n",
        "\t\tconst size_t stSize = strtol(argv[1], NULL, 10);\n",
        "\t\tint *data = (int *)malloc(stSize * sizeof(int));\n",
        "\t\tint *tmp = (int *)malloc(stSize * sizeof(int));\n",
        "\t\tint *ref = (int *)malloc(stSize * sizeof(int));\n",
        "\n",
        "\t\tprintf(\"Initialization...\\n\");\n",
        "\n",
        "\t\tsrand(95);\n",
        "\t\tfor (size_t idx = 0; idx < stSize; ++idx)\n",
        "\t\t{\n",
        "\t\t\tdata[idx] = (int)(stSize * (double(rand()) / RAND_MAX));\n",
        "\t\t}\n",
        "\t\tstd::copy(data, data + stSize, ref);\n",
        "\n",
        "\t\tdouble dSize = (stSize * sizeof(int)) / 1024 / 1024;\n",
        "\t\tprintf(\"Sorting %zu elements of type int (%f MiB)...\\n\", stSize, dSize);\n",
        "\n",
        "\t\t// Start measuring time\n",
        "\t\tgettimeofday(&t1, NULL);\n",
        "\n",
        "\t\t// Example parameters: maxDepth = 4, cutOffSort = 16, cutoffMerge = 2048, input datasize = 1000000000\n",
        "\t\t// 1. If depth is too large, high level of parallel but also high tasks pressure, worse performance;\n",
        "\t\t// -  If depth is too low we haven't fully utilized the whole threads for acceleration.\n",
        "\t\t// 2. High cutOffSort, to big sub array to sort sequentially, low speed;\n",
        "\t\t// -  Low cutOffSort too many small arrays to deal with\n",
        "\t\t// 3. High cutOffMerge like 8192, arrays to merge at lower levels can't benefit from this parallelism;\n",
        "\t\t// -  Low cutOffSort, too many small paralleled tasks to manage which leading bad performance.\n",
        "\t\tconst long depth = 4;\n",
        "\t\tconst long cutOffSort = 16;\n",
        "\t\tconst long cutOffMerge = 2048;\n",
        "\t\t// Perform the mergesort algorithm\n",
        "\t\tMsSerial(data, tmp, stSize, depth, cutOffSort, cutOffMerge);\n",
        "\n",
        "\t\tgettimeofday(&t2, NULL);\n",
        "\n",
        "\t\t// Calculate elapsed time\n",
        "\t\tetime = (t2.tv_sec - t1.tv_sec) * 1000 + (t2.tv_usec - t1.tv_usec) / 1000;\n",
        "\t\tetime = etime / 1000;\n",
        "\n",
        "\t\tprintf(\"done, took %f sec. Verification...\", etime);\n",
        "\t\tif (isSorted(ref, data, stSize))\n",
        "\t\t{\n",
        "\t\t\tprintf(\" successful.\\n\");\n",
        "\t\t\tprintf(\"With parameter depth: %ld, cutOffSort: %ld, cutOffMerge: %ld\\n\", depth, cutOffSort, cutOffMerge);\n",
        "\t\t}\n",
        "\t\telse\n",
        "\t\t{\n",
        "\t\t\tprintf(\" FAILED.\\n\");\n",
        "\t\t}\n",
        "\n",
        "\t\tfree(data);\n",
        "\t\tfree(tmp);\n",
        "\t\tfree(ref);\n",
        "\t}\n",
        "\n",
        "\treturn EXIT_SUCCESS;\n",
        "}"
      ],
      "metadata": {
        "colab": {
          "base_uri": "https://localhost:8080/"
        },
        "id": "VbOHzMWLU4rM",
        "outputId": "37335c96-faaf-47ef-844a-042b8b634259"
      },
      "execution_count": null,
      "outputs": [
        {
          "output_type": "stream",
          "name": "stdout",
          "text": [
            "Overwriting mergesort_parallel.cpp\n"
          ]
        }
      ]
    },
    {
      "cell_type": "markdown",
      "source": [
        "2. Nextly compile it with OpenMP"
      ],
      "metadata": {
        "id": "MnuLd4_4VBWi"
      }
    },
    {
      "cell_type": "code",
      "source": [
        "!g++ -fopenmp -o mergesort_parallel mergesort_parallel.cpp\n"
      ],
      "metadata": {
        "id": "cr6xOMSVVAlR"
      },
      "execution_count": null,
      "outputs": []
    },
    {
      "cell_type": "markdown",
      "source": [
        "We can also check how many threads can we use at colab (actually just two)"
      ],
      "metadata": {
        "id": "V-QqIp3AYgnj"
      }
    },
    {
      "cell_type": "code",
      "source": [
        "!nproc --all\n"
      ],
      "metadata": {
        "colab": {
          "base_uri": "https://localhost:8080/"
        },
        "id": "nKaWipflX26_",
        "outputId": "ee6fed4a-e06d-49ed-e3f9-2494f1220e5d"
      },
      "execution_count": null,
      "outputs": [
        {
          "output_type": "stream",
          "name": "stdout",
          "text": [
            "2\n"
          ]
        }
      ]
    },
    {
      "cell_type": "markdown",
      "source": [
        "3. Now run the exe with data size changing ascent"
      ],
      "metadata": {
        "id": "TReQ5EegVeCa"
      }
    },
    {
      "cell_type": "code",
      "source": [
        "!./mergesort_parallel 1000000  # With the array size = 10^6"
      ],
      "metadata": {
        "colab": {
          "base_uri": "https://localhost:8080/"
        },
        "id": "DPr0pH5PVs40",
        "outputId": "04708b09-7401-4f8f-9765-2d1cb973a6aa"
      },
      "execution_count": null,
      "outputs": [
        {
          "output_type": "stream",
          "name": "stdout",
          "text": [
            "Initialization...\n",
            "Sorting 1000000 elements of type int (3.000000 MiB)...\n",
            "done, took 0.165000 sec. Verification... successful.\n",
            "With parameter depth: 4, cutOffSort: 16, cutOffMerge: 2048\n"
          ]
        }
      ]
    },
    {
      "cell_type": "code",
      "source": [
        "!./mergesort_parallel 10000000  # With the array size = 10^7"
      ],
      "metadata": {
        "colab": {
          "base_uri": "https://localhost:8080/"
        },
        "id": "t-I2sa2rWRRY",
        "outputId": "72509239-9713-4af6-e851-45b13bb218c7"
      },
      "execution_count": null,
      "outputs": [
        {
          "output_type": "stream",
          "name": "stdout",
          "text": [
            "Initialization...\n",
            "Sorting 10000000 elements of type int (38.000000 MiB)...\n",
            "done, took 2.343000 sec. Verification... successful.\n",
            "With parameter depth: 4, cutOffSort: 16, cutOffMerge: 2048\n"
          ]
        }
      ]
    },
    {
      "cell_type": "code",
      "source": [
        "!./mergesort_parallel 100000000  # With the array size = 10^8"
      ],
      "metadata": {
        "colab": {
          "base_uri": "https://localhost:8080/"
        },
        "id": "J7WDJoHkWapG",
        "outputId": "039b4d13-ac61-4d6c-a311-b392e5ee0c9b"
      },
      "execution_count": null,
      "outputs": [
        {
          "output_type": "stream",
          "name": "stdout",
          "text": [
            "Initialization...\n",
            "Sorting 100000000 elements of type int (381.000000 MiB)...\n",
            "done, took 24.344000 sec. Verification... successful.\n",
            "With parameter depth: 4, cutOffSort: 16, cutOffMerge: 2048\n"
          ]
        }
      ]
    },
    {
      "cell_type": "code",
      "source": [
        "!./mergesort_parallel 1000000000  # With the array size = 10^9, too long to wait because of just 2 thread which can be used"
      ],
      "metadata": {
        "colab": {
          "base_uri": "https://localhost:8080/"
        },
        "id": "VX-INkzsWfTt",
        "outputId": "8c0b3125-9592-414f-92dd-fd877cef0d63"
      },
      "execution_count": null,
      "outputs": [
        {
          "output_type": "stream",
          "name": "stdout",
          "text": [
            "Initialization...\n",
            "Sorting 1000000000 elements of type int (3814.000000 MiB)...\n",
            "^C\n"
          ]
        }
      ]
    }
  ]
}